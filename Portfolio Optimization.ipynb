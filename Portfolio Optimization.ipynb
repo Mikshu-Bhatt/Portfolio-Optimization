{
 "cells": [
  {
   "cell_type": "code",
   "execution_count": 2,
   "metadata": {
    "colab": {
     "base_uri": "https://localhost:8080/"
    },
    "executionInfo": {
     "elapsed": 60357,
     "status": "ok",
     "timestamp": 1616391021843,
     "user": {
      "displayName": "Mikshu Bhatt",
      "photoUrl": "https://lh3.googleusercontent.com/a-/AOh14Gg4MscRABw3tq3T9P_uv3psR3yUolriti_zpJlziw=s64",
      "userId": "03585227112405981909"
     },
     "user_tz": -330
    },
    "id": "DqmOICOc7iFj",
    "outputId": "1c65a525-5cc2-456a-ce19-a72f8fcfe852"
   },
   "outputs": [
    {
     "name": "stdout",
     "output_type": "stream",
     "text": [
      "Collecting pyportfolioopt\n",
      "\u001b[?25l  Downloading https://files.pythonhosted.org/packages/46/55/7d39d78d554ee33a7317e345caf01339da11406c28f18bc48794fe967935/PyPortfolioOpt-1.4.1-py3-none-any.whl (56kB)\n",
      "\r",
      "\u001b[K     |█████▊                          | 10kB 15.9MB/s eta 0:00:01\r",
      "\u001b[K     |███████████▌                    | 20kB 22.8MB/s eta 0:00:01\r",
      "\u001b[K     |█████████████████▎              | 30kB 15.8MB/s eta 0:00:01\r",
      "\u001b[K     |███████████████████████         | 40kB 11.5MB/s eta 0:00:01\r",
      "\u001b[K     |████████████████████████████▉   | 51kB 10.3MB/s eta 0:00:01\r",
      "\u001b[K     |████████████████████████████████| 61kB 4.1MB/s \n",
      "\u001b[?25hRequirement already satisfied: scipy<2.0,>=1.3 in /usr/local/lib/python3.7/dist-packages (from pyportfolioopt) (1.4.1)\n",
      "Collecting cvxpy<2.0.0,>=1.1.10\n",
      "\u001b[?25l  Downloading https://files.pythonhosted.org/packages/b5/7e/ec053f8a89f0c380379f9af2066e55fa77adfd5ef7fa63923097b0e2896b/cvxpy-1.1.11.tar.gz (1.3MB)\n",
      "\u001b[K     |████████████████████████████████| 1.3MB 8.5MB/s \n",
      "\u001b[?25h  Installing build dependencies ... \u001b[?25l\u001b[?25hdone\n",
      "  Getting requirements to build wheel ... \u001b[?25l\u001b[?25hdone\n",
      "    Preparing wheel metadata ... \u001b[?25l\u001b[?25hdone\n",
      "Requirement already satisfied: numpy<2.0,>=1.12 in /usr/local/lib/python3.7/dist-packages (from pyportfolioopt) (1.19.5)\n",
      "Requirement already satisfied: pandas>=0.19 in /usr/local/lib/python3.7/dist-packages (from pyportfolioopt) (1.1.5)\n",
      "Requirement already satisfied: ecos>=2 in /usr/local/lib/python3.7/dist-packages (from cvxpy<2.0.0,>=1.1.10->pyportfolioopt) (2.0.7.post1)\n",
      "Requirement already satisfied: osqp>=0.4.1 in /usr/local/lib/python3.7/dist-packages (from cvxpy<2.0.0,>=1.1.10->pyportfolioopt) (0.6.2.post0)\n",
      "Requirement already satisfied: scs>=1.1.6 in /usr/local/lib/python3.7/dist-packages (from cvxpy<2.0.0,>=1.1.10->pyportfolioopt) (2.1.2)\n",
      "Requirement already satisfied: pytz>=2017.2 in /usr/local/lib/python3.7/dist-packages (from pandas>=0.19->pyportfolioopt) (2018.9)\n",
      "Requirement already satisfied: python-dateutil>=2.7.3 in /usr/local/lib/python3.7/dist-packages (from pandas>=0.19->pyportfolioopt) (2.8.1)\n",
      "Requirement already satisfied: qdldl in /usr/local/lib/python3.7/dist-packages (from osqp>=0.4.1->cvxpy<2.0.0,>=1.1.10->pyportfolioopt) (0.1.5.post0)\n",
      "Requirement already satisfied: six>=1.5 in /usr/local/lib/python3.7/dist-packages (from python-dateutil>=2.7.3->pandas>=0.19->pyportfolioopt) (1.15.0)\n",
      "Building wheels for collected packages: cvxpy\n",
      "  Building wheel for cvxpy (PEP 517) ... \u001b[?25l\u001b[?25hdone\n",
      "  Created wheel for cvxpy: filename=cvxpy-1.1.11-cp37-cp37m-linux_x86_64.whl size=2725497 sha256=c67c4e3810ca35591aba4f5b824246cedf15a9e9c863872067d178943f1ad5a1\n",
      "  Stored in directory: /root/.cache/pip/wheels/df/d4/eb/c74e09a39bc4ac09b3a8d2a48c1c6009f391056d8c87bf68aa\n",
      "Successfully built cvxpy\n",
      "Installing collected packages: cvxpy, pyportfolioopt\n",
      "  Found existing installation: cvxpy 1.0.31\n",
      "    Uninstalling cvxpy-1.0.31:\n",
      "      Successfully uninstalled cvxpy-1.0.31\n",
      "Successfully installed cvxpy-1.1.11 pyportfolioopt-1.4.1\n"
     ]
    }
   ],
   "source": [
    "import pandas as pd\n",
    "import pickle\n",
    "import os\n",
    "%pip install pyportfolioopt\n"
   ]
  },
  {
   "cell_type": "code",
   "execution_count": 4,
   "metadata": {
    "executionInfo": {
     "elapsed": 1459,
     "status": "ok",
     "timestamp": 1616391032673,
     "user": {
      "displayName": "Mikshu Bhatt",
      "photoUrl": "https://lh3.googleusercontent.com/a-/AOh14Gg4MscRABw3tq3T9P_uv3psR3yUolriti_zpJlziw=s64",
      "userId": "03585227112405981909"
     },
     "user_tz": -330
    },
    "id": "_JfhSc4LJAT4"
   },
   "outputs": [],
   "source": [
    "from pypfopt.expected_returns import mean_historical_return,ema_historical_return\n",
    "from  pypfopt.risk_models import CovarianceShrinkage\n",
    "from  pypfopt.efficient_frontier import EfficientFrontier\n",
    "from pypfopt.discrete_allocation import DiscreteAllocation, get_latest_prices"
   ]
  },
  {
   "cell_type": "code",
   "execution_count": 5,
   "metadata": {
    "colab": {
     "base_uri": "https://localhost:8080/"
    },
    "executionInfo": {
     "elapsed": 34790,
     "status": "ok",
     "timestamp": 1616391068282,
     "user": {
      "displayName": "Mikshu Bhatt",
      "photoUrl": "https://lh3.googleusercontent.com/a-/AOh14Gg4MscRABw3tq3T9P_uv3psR3yUolriti_zpJlziw=s64",
      "userId": "03585227112405981909"
     },
     "user_tz": -330
    },
    "id": "6nuFOowi7nSF",
    "outputId": "f5919e1d-2a99-467d-c3f4-892751a7b4a2"
   },
   "outputs": [
    {
     "name": "stdout",
     "output_type": "stream",
     "text": [
      "Mounted at /content/drive\n"
     ]
    }
   ],
   "source": [
    "from google.colab import drive\n",
    "drive.mount('/content/drive')"
   ]
  },
  {
   "cell_type": "code",
   "execution_count": 6,
   "metadata": {
    "executionInfo": {
     "elapsed": 3146,
     "status": "ok",
     "timestamp": 1616391068283,
     "user": {
      "displayName": "Mikshu Bhatt",
      "photoUrl": "https://lh3.googleusercontent.com/a-/AOh14Gg4MscRABw3tq3T9P_uv3psR3yUolriti_zpJlziw=s64",
      "userId": "03585227112405981909"
     },
     "user_tz": -330
    },
    "id": "DMfaYOyu72Ge"
   },
   "outputs": [],
   "source": [
    "df = pd.DataFrame()"
   ]
  },
  {
   "cell_type": "code",
   "execution_count": 7,
   "metadata": {
    "executionInfo": {
     "elapsed": 10530,
     "status": "ok",
     "timestamp": 1616391080050,
     "user": {
      "displayName": "Mikshu Bhatt",
      "photoUrl": "https://lh3.googleusercontent.com/a-/AOh14Gg4MscRABw3tq3T9P_uv3psR3yUolriti_zpJlziw=s64",
      "userId": "03585227112405981909"
     },
     "user_tz": -330
    },
    "id": "oJATdNvd8z-U"
   },
   "outputs": [],
   "source": [
    "\n",
    "for f in os.listdir('/content/drive/MyDrive/colab/BSE_df'):\n",
    "  with open(f'/content/drive/MyDrive/colab/BSE_df/{f}','rb') as file:\n",
    "    if df.empty:\n",
    "      df = pickle.load(file)['Adj Close']\n",
    "    else:\n",
    "      df = pd.concat([df,pickle.load(file)['Adj Close']],axis=1)\n",
    "    \n",
    "    "
   ]
  },
  {
   "cell_type": "code",
   "execution_count": 8,
   "metadata": {
    "executionInfo": {
     "elapsed": 5511,
     "status": "ok",
     "timestamp": 1616391080051,
     "user": {
      "displayName": "Mikshu Bhatt",
      "photoUrl": "https://lh3.googleusercontent.com/a-/AOh14Gg4MscRABw3tq3T9P_uv3psR3yUolriti_zpJlziw=s64",
      "userId": "03585227112405981909"
     },
     "user_tz": -330
    },
    "id": "HUD6pFMq9SU-"
   },
   "outputs": [],
   "source": [
    "df.columns = [i.strip('.csv') for i in os.listdir('/content/drive/MyDrive/colab/BSE_df')]"
   ]
  },
  {
   "cell_type": "code",
   "execution_count": 9,
   "metadata": {
    "colab": {
     "base_uri": "https://localhost:8080/",
     "height": 346
    },
    "executionInfo": {
     "elapsed": 1141,
     "status": "ok",
     "timestamp": 1616391081911,
     "user": {
      "displayName": "Mikshu Bhatt",
      "photoUrl": "https://lh3.googleusercontent.com/a-/AOh14Gg4MscRABw3tq3T9P_uv3psR3yUolriti_zpJlziw=s64",
      "userId": "03585227112405981909"
     },
     "user_tz": -330
    },
    "id": "H8DImVqt_Lsi",
    "outputId": "62d38220-459a-433f-8387-948aed5168bf"
   },
   "outputs": [
    {
     "data": {
      "text/html": [
       "<div>\n",
       "<style scoped>\n",
       "    .dataframe tbody tr th:only-of-type {\n",
       "        vertical-align: middle;\n",
       "    }\n",
       "\n",
       "    .dataframe tbody tr th {\n",
       "        vertical-align: top;\n",
       "    }\n",
       "\n",
       "    .dataframe thead th {\n",
       "        text-align: right;\n",
       "    }\n",
       "</style>\n",
       "<table border=\"1\" class=\"dataframe\">\n",
       "  <thead>\n",
       "    <tr style=\"text-align: right;\">\n",
       "      <th></th>\n",
       "      <th>ASIANPAINT.BO</th>\n",
       "      <th>AXISBANK.BO</th>\n",
       "      <th>BAJAJ-AUTO.BO</th>\n",
       "      <th>BAJFINANCE.BO</th>\n",
       "      <th>BAJAJFINSV.BO</th>\n",
       "      <th>BHARTIARTL.BO</th>\n",
       "      <th>DRREDDY.BO</th>\n",
       "      <th>HCLTECH.BO</th>\n",
       "      <th>HDFC.BO</th>\n",
       "      <th>HDFCBANK.BO</th>\n",
       "      <th>HINDUNILVR.BO</th>\n",
       "      <th>ICICIBANK.BO</th>\n",
       "      <th>INDUSINDBK.BO</th>\n",
       "      <th>INFY.BO</th>\n",
       "      <th>ITC.BO</th>\n",
       "      <th>KOTAKBANK.BO</th>\n",
       "      <th>LT.BO</th>\n",
       "      <th>M&amp;M.BO</th>\n",
       "      <th>MARUTI.BO</th>\n",
       "      <th>NESTLEIND.BO</th>\n",
       "      <th>NTPC.BO</th>\n",
       "      <th>ONGC.BO</th>\n",
       "      <th>POWERGRID.BO</th>\n",
       "      <th>RELIANCE.BO</th>\n",
       "      <th>SBIN.BO</th>\n",
       "      <th>SUNPHARMA.BO</th>\n",
       "      <th>TCS.BO</th>\n",
       "      <th>TECHM.BO</th>\n",
       "      <th>TITAN.BO</th>\n",
       "      <th>ULTRACEMCO.BO</th>\n",
       "    </tr>\n",
       "    <tr>\n",
       "      <th>Date</th>\n",
       "      <th></th>\n",
       "      <th></th>\n",
       "      <th></th>\n",
       "      <th></th>\n",
       "      <th></th>\n",
       "      <th></th>\n",
       "      <th></th>\n",
       "      <th></th>\n",
       "      <th></th>\n",
       "      <th></th>\n",
       "      <th></th>\n",
       "      <th></th>\n",
       "      <th></th>\n",
       "      <th></th>\n",
       "      <th></th>\n",
       "      <th></th>\n",
       "      <th></th>\n",
       "      <th></th>\n",
       "      <th></th>\n",
       "      <th></th>\n",
       "      <th></th>\n",
       "      <th></th>\n",
       "      <th></th>\n",
       "      <th></th>\n",
       "      <th></th>\n",
       "      <th></th>\n",
       "      <th></th>\n",
       "      <th></th>\n",
       "      <th></th>\n",
       "      <th></th>\n",
       "    </tr>\n",
       "  </thead>\n",
       "  <tbody>\n",
       "    <tr>\n",
       "      <th>2018-01-01</th>\n",
       "      <td>1122.931519</td>\n",
       "      <td>564.149414</td>\n",
       "      <td>3021.046387</td>\n",
       "      <td>1716.279053</td>\n",
       "      <td>5176.046875</td>\n",
       "      <td>472.922546</td>\n",
       "      <td>2357.325684</td>\n",
       "      <td>425.996277</td>\n",
       "      <td>1606.401489</td>\n",
       "      <td>914.870544</td>\n",
       "      <td>1290.398438</td>\n",
       "      <td>304.259735</td>\n",
       "      <td>1605.153931</td>\n",
       "      <td>474.939514</td>\n",
       "      <td>235.195282</td>\n",
       "      <td>1000.599915</td>\n",
       "      <td>1179.642334</td>\n",
       "      <td>726.202637</td>\n",
       "      <td>9282.260742</td>\n",
       "      <td>7405.251465</td>\n",
       "      <td>123.481689</td>\n",
       "      <td>164.395981</td>\n",
       "      <td>171.722458</td>\n",
       "      <td>897.702820</td>\n",
       "      <td>307.049988</td>\n",
       "      <td>558.157654</td>\n",
       "      <td>1240.125732</td>\n",
       "      <td>461.942505</td>\n",
       "      <td>839.659485</td>\n",
       "      <td>4221.885742</td>\n",
       "    </tr>\n",
       "    <tr>\n",
       "      <th>2018-01-02</th>\n",
       "      <td>1119.356445</td>\n",
       "      <td>559.005859</td>\n",
       "      <td>3021.734619</td>\n",
       "      <td>1712.202637</td>\n",
       "      <td>5105.479980</td>\n",
       "      <td>462.311646</td>\n",
       "      <td>2353.610840</td>\n",
       "      <td>431.170166</td>\n",
       "      <td>1620.396362</td>\n",
       "      <td>922.605286</td>\n",
       "      <td>1282.927368</td>\n",
       "      <td>302.986084</td>\n",
       "      <td>1622.328369</td>\n",
       "      <td>472.621124</td>\n",
       "      <td>233.406403</td>\n",
       "      <td>1001.548828</td>\n",
       "      <td>1167.769165</td>\n",
       "      <td>733.021484</td>\n",
       "      <td>9166.729492</td>\n",
       "      <td>7413.126953</td>\n",
       "      <td>125.126701</td>\n",
       "      <td>168.283737</td>\n",
       "      <td>171.936783</td>\n",
       "      <td>897.555115</td>\n",
       "      <td>302.899994</td>\n",
       "      <td>556.114258</td>\n",
       "      <td>1230.362427</td>\n",
       "      <td>470.903748</td>\n",
       "      <td>831.593445</td>\n",
       "      <td>4219.456543</td>\n",
       "    </tr>\n",
       "    <tr>\n",
       "      <th>2018-01-03</th>\n",
       "      <td>1117.642578</td>\n",
       "      <td>559.655029</td>\n",
       "      <td>2978.896484</td>\n",
       "      <td>1704.397827</td>\n",
       "      <td>5098.388672</td>\n",
       "      <td>464.236877</td>\n",
       "      <td>2283.716797</td>\n",
       "      <td>433.636200</td>\n",
       "      <td>1619.301514</td>\n",
       "      <td>912.727478</td>\n",
       "      <td>1293.128052</td>\n",
       "      <td>308.668610</td>\n",
       "      <td>1609.151611</td>\n",
       "      <td>467.846710</td>\n",
       "      <td>233.451126</td>\n",
       "      <td>999.001526</td>\n",
       "      <td>1193.057861</td>\n",
       "      <td>735.115845</td>\n",
       "      <td>9043.420898</td>\n",
       "      <td>7409.212402</td>\n",
       "      <td>123.901703</td>\n",
       "      <td>165.506760</td>\n",
       "      <td>173.008438</td>\n",
       "      <td>902.429871</td>\n",
       "      <td>302.850006</td>\n",
       "      <td>553.924866</td>\n",
       "      <td>1231.039429</td>\n",
       "      <td>477.153717</td>\n",
       "      <td>842.364563</td>\n",
       "      <td>4258.577148</td>\n",
       "    </tr>\n",
       "    <tr>\n",
       "      <th>2018-01-04</th>\n",
       "      <td>1147.956421</td>\n",
       "      <td>558.606323</td>\n",
       "      <td>2992.931152</td>\n",
       "      <td>1743.272949</td>\n",
       "      <td>5047.499023</td>\n",
       "      <td>467.818573</td>\n",
       "      <td>2355.370117</td>\n",
       "      <td>431.774628</td>\n",
       "      <td>1623.680786</td>\n",
       "      <td>915.018372</td>\n",
       "      <td>1294.995972</td>\n",
       "      <td>308.423645</td>\n",
       "      <td>1624.943970</td>\n",
       "      <td>466.102234</td>\n",
       "      <td>233.138062</td>\n",
       "      <td>999.251282</td>\n",
       "      <td>1229.752197</td>\n",
       "      <td>735.456726</td>\n",
       "      <td>9010.288086</td>\n",
       "      <td>7423.172363</td>\n",
       "      <td>123.901703</td>\n",
       "      <td>170.334427</td>\n",
       "      <td>171.851044</td>\n",
       "      <td>906.270630</td>\n",
       "      <td>308.049988</td>\n",
       "      <td>565.358459</td>\n",
       "      <td>1237.859985</td>\n",
       "      <td>478.348511</td>\n",
       "      <td>877.137268</td>\n",
       "      <td>4304.638672</td>\n",
       "    </tr>\n",
       "    <tr>\n",
       "      <th>2018-01-05</th>\n",
       "      <td>1159.415771</td>\n",
       "      <td>562.401611</td>\n",
       "      <td>3006.507568</td>\n",
       "      <td>1800.989502</td>\n",
       "      <td>5120.912598</td>\n",
       "      <td>483.533447</td>\n",
       "      <td>2411.920654</td>\n",
       "      <td>435.207733</td>\n",
       "      <td>1643.149658</td>\n",
       "      <td>916.570190</td>\n",
       "      <td>1299.258179</td>\n",
       "      <td>306.268250</td>\n",
       "      <td>1676.466797</td>\n",
       "      <td>464.633148</td>\n",
       "      <td>235.150543</td>\n",
       "      <td>1001.998352</td>\n",
       "      <td>1228.910889</td>\n",
       "      <td>736.723083</td>\n",
       "      <td>9060.034180</td>\n",
       "      <td>7395.017578</td>\n",
       "      <td>124.146698</td>\n",
       "      <td>168.924576</td>\n",
       "      <td>172.236816</td>\n",
       "      <td>908.978882</td>\n",
       "      <td>306.200012</td>\n",
       "      <td>563.169067</td>\n",
       "      <td>1254.046875</td>\n",
       "      <td>481.427490</td>\n",
       "      <td>894.203918</td>\n",
       "      <td>4358.780762</td>\n",
       "    </tr>\n",
       "  </tbody>\n",
       "</table>\n",
       "</div>"
      ],
      "text/plain": [
       "            ASIANPAINT.BO  AXISBANK.BO  ...    TITAN.BO  ULTRACEMCO.BO\n",
       "Date                                    ...                           \n",
       "2018-01-01    1122.931519   564.149414  ...  839.659485    4221.885742\n",
       "2018-01-02    1119.356445   559.005859  ...  831.593445    4219.456543\n",
       "2018-01-03    1117.642578   559.655029  ...  842.364563    4258.577148\n",
       "2018-01-04    1147.956421   558.606323  ...  877.137268    4304.638672\n",
       "2018-01-05    1159.415771   562.401611  ...  894.203918    4358.780762\n",
       "\n",
       "[5 rows x 30 columns]"
      ]
     },
     "execution_count": 9,
     "metadata": {
      "tags": []
     },
     "output_type": "execute_result"
    }
   ],
   "source": [
    "df.head()"
   ]
  },
  {
   "cell_type": "code",
   "execution_count": 11,
   "metadata": {
    "colab": {
     "base_uri": "https://localhost:8080/"
    },
    "executionInfo": {
     "elapsed": 1075,
     "status": "ok",
     "timestamp": 1616391114124,
     "user": {
      "displayName": "Mikshu Bhatt",
      "photoUrl": "https://lh3.googleusercontent.com/a-/AOh14Gg4MscRABw3tq3T9P_uv3psR3yUolriti_zpJlziw=s64",
      "userId": "03585227112405981909"
     },
     "user_tz": -330
    },
    "id": "xMIZOcE_Ckvf",
    "outputId": "e60c7e2a-d153-4506-ce6a-61e189236aed"
   },
   "outputs": [
    {
     "name": "stdout",
     "output_type": "stream",
     "text": [
      "amount required to buy 1 sahre of each company : 57965.08702087402\n"
     ]
    }
   ],
   "source": [
    "dd = df.iloc[:400]\n",
    "dz = df.iloc[400:]\n",
    "print('amount required to buy 1 sahre of each company :',dz.loc[dz.index.min()].sum())"
   ]
  },
  {
   "cell_type": "code",
   "execution_count": 17,
   "metadata": {
    "colab": {
     "base_uri": "https://localhost:8080/"
    },
    "executionInfo": {
     "elapsed": 1019,
     "status": "ok",
     "timestamp": 1616391161850,
     "user": {
      "displayName": "Mikshu Bhatt",
      "photoUrl": "https://lh3.googleusercontent.com/a-/AOh14Gg4MscRABw3tq3T9P_uv3psR3yUolriti_zpJlziw=s64",
      "userId": "03585227112405981909"
     },
     "user_tz": -330
    },
    "id": "UD1My9-DF8fx",
    "outputId": "f551a3a5-53d0-4ba5-b19a-8fdf32af8b26"
   },
   "outputs": [
    {
     "name": "stdout",
     "output_type": "stream",
     "text": [
      "Expected annual return: 35.4%\n",
      "Annual volatility: 13.5%\n",
      "Sharpe Ratio: 2.48\n",
      "({'ASIANPAINT.BO': 5, 'BAJFINANCE.BO': 3, 'ICICIBANK.BO': 12, 'INFY.BO': 11, 'KOTAKBANK.BO': 3, 'NESTLEIND.BO': 1, 'POWERGRID.BO': 12, 'TCS.BO': 4}, 64.2164306640625)\n"
     ]
    }
   ],
   "source": [
    "\n",
    "mu = ema_historical_return(dd)\n",
    "s = CovarianceShrinkage(dd).ledoit_wolf()\n",
    "ef = EfficientFrontier(mu,s,weight_bounds=(0,1))\n",
    "wts = ef.max_sharpe()\n",
    "clean_wt = ef.clean_weights()\n",
    "# print(clean_wt)\n",
    "ef.portfolio_performance(verbose=True)\n",
    "latest_price = get_latest_prices(dd)\n",
    "da = DiscreteAllocation(clean_wt, latest_price, total_portfolio_value=58000)\n",
    "print(da.lp_portfolio())\n",
    "  "
   ]
  },
  {
   "cell_type": "code",
   "execution_count": 13,
   "metadata": {
    "colab": {
     "base_uri": "https://localhost:8080/"
    },
    "executionInfo": {
     "elapsed": 1074,
     "status": "ok",
     "timestamp": 1616391118529,
     "user": {
      "displayName": "Mikshu Bhatt",
      "photoUrl": "https://lh3.googleusercontent.com/a-/AOh14Gg4MscRABw3tq3T9P_uv3psR3yUolriti_zpJlziw=s64",
      "userId": "03585227112405981909"
     },
     "user_tz": -330
    },
    "id": "3Pj4nICJF9lK",
    "outputId": "5aad5183-9a35-49a1-b180-f2ac0522437d"
   },
   "outputs": [
    {
     "name": "stdout",
     "output_type": "stream",
     "text": [
      "market return over 382 days : 41.80052958371859 %\n",
      "annual market return : 30.353738256121844 %\n"
     ]
    }
   ],
   "source": [
    "a = (dz.loc[dz.index.max()].sum() - dz.loc[dz.index.min()].sum())/dz.loc[dz.index.min()].sum()\n",
    "print('market return over 382 days : ' + str(a*100) + ' %')\n",
    "print('annual market return : ' + str(((1+a)**0.759 - 1)*100) + ' %')"
   ]
  },
  {
   "cell_type": "code",
   "execution_count": 14,
   "metadata": {
    "colab": {
     "base_uri": "https://localhost:8080/"
    },
    "executionInfo": {
     "elapsed": 1031,
     "status": "ok",
     "timestamp": 1616391120093,
     "user": {
      "displayName": "Mikshu Bhatt",
      "photoUrl": "https://lh3.googleusercontent.com/a-/AOh14Gg4MscRABw3tq3T9P_uv3psR3yUolriti_zpJlziw=s64",
      "userId": "03585227112405981909"
     },
     "user_tz": -330
    },
    "id": "YwkmxBtfxSUm",
    "outputId": "184ebf54-fbc0-43fe-fef3-be79469212b9"
   },
   "outputs": [
    {
     "name": "stdout",
     "output_type": "stream",
     "text": [
      "portfolio return over 382 days : 51.5512977125429 %\n",
      "annual portfolio return : 37.10231297230071 %\n"
     ]
    }
   ],
   "source": [
    "min_val = 0\n",
    "max_val = 0\n",
    "for key in da.lp_portfolio()[0]:\n",
    "  min_val = da.lp_portfolio()[0][key]*dz.loc[dz.index.min(),key] + min_val\n",
    "  max_val = da.lp_portfolio()[0][key]*dz.loc[dz.index.max(),key] + max_val\n",
    "print('portfolio return over 382 days : ' + str((max_val/min_val - 1)*100) + ' %')  \n",
    "print('annual portfolio return : ' + str(((max_val/min_val)**0.759 - 1)*100) + ' %')"
   ]
  },
  {
   "cell_type": "code",
   "execution_count": 18,
   "metadata": {
    "colab": {
     "base_uri": "https://localhost:8080/"
    },
    "executionInfo": {
     "elapsed": 1123,
     "status": "ok",
     "timestamp": 1616391553956,
     "user": {
      "displayName": "Mikshu Bhatt",
      "photoUrl": "https://lh3.googleusercontent.com/a-/AOh14Gg4MscRABw3tq3T9P_uv3psR3yUolriti_zpJlziw=s64",
      "userId": "03585227112405981909"
     },
     "user_tz": -330
    },
    "id": "OO5PiTEJeb88",
    "outputId": "e83e292a-d05d-4f48-e341-aa519e0be43f"
   },
   "outputs": [
    {
     "name": "stdout",
     "output_type": "stream",
     "text": [
      "Expected annual return: 65.3%\n",
      "Annual volatility: 22.1%\n",
      "Sharpe Ratio: 2.87\n",
      "({'ASIANPAINT.BO': 2, 'BAJFINANCE.BO': 4, 'DRREDDY.BO': 1, 'HCLTECH.BO': 28, 'INFY.BO': 46, 'POWERGRID.BO': 85, 'SBIN.BO': 52, 'ULTRACEMCO.BO': 6}, 243.19747924804688)\n"
     ]
    }
   ],
   "source": [
    "mu = ema_historical_return(df)\n",
    "s = CovarianceShrinkage(df).ledoit_wolf()\n",
    "ef = EfficientFrontier(mu,s,weight_bounds=(0,1))\n",
    "wts = ef.max_sharpe()\n",
    "clean_wt = ef.clean_weights()\n",
    "# print(clean_wt)\n",
    "ef.portfolio_performance(verbose=True)\n",
    "latest_price = get_latest_prices(df)\n",
    "da = DiscreteAllocation(clean_wt, latest_price, total_portfolio_value=200000,short_ratio=0.3)\n",
    "print(da.lp_portfolio())"
   ]
  },
  {
   "cell_type": "code",
   "execution_count": 18,
   "metadata": {
    "executionInfo": {
     "elapsed": 1349,
     "status": "ok",
     "timestamp": 1616391554363,
     "user": {
      "displayName": "Mikshu Bhatt",
      "photoUrl": "https://lh3.googleusercontent.com/a-/AOh14Gg4MscRABw3tq3T9P_uv3psR3yUolriti_zpJlziw=s64",
      "userId": "03585227112405981909"
     },
     "user_tz": -330
    },
    "id": "LXjJBTp0wve3"
   },
   "outputs": [],
   "source": []
  }
 ],
 "metadata": {
  "colab": {
   "authorship_tag": "ABX9TyOSFuLPFfMggvT4eVLuEcVI",
   "collapsed_sections": [],
   "name": "Portfolio Optimization.ipynb",
   "provenance": []
  },
  "kernelspec": {
   "display_name": "Python 3",
   "language": "python",
   "name": "python3"
  },
  "language_info": {
   "codemirror_mode": {
    "name": "ipython",
    "version": 3
   },
   "file_extension": ".py",
   "mimetype": "text/x-python",
   "name": "python",
   "nbconvert_exporter": "python",
   "pygments_lexer": "ipython3",
   "version": "3.7.9"
  }
 },
 "nbformat": 4,
 "nbformat_minor": 1
}
